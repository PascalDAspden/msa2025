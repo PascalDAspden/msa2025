{
 "cells": [
  {
   "cell_type": "markdown",
   "id": "e5d029942931801d",
   "metadata": {
    "collapsed": false
   },
   "source": [
    "# Example code for splitting the dataset.\n",
    "This file is used to split the dataset into training, validation, and testing sets."
   ]
  },
  {
   "cell_type": "code",
   "execution_count": 1,
   "id": "43bd058286022ccc",
   "metadata": {
    "ExecuteTime": {
     "end_time": "2025-05-08T05:05:33.940331Z",
     "start_time": "2025-05-08T05:05:32.542660Z"
    },
    "collapsed": false
   },
   "outputs": [],
   "source": [
    "import os\n",
    "import numpy as np\n",
    "from sklearn.model_selection import train_test_split\n",
    "from tqdm import tqdm\n",
    "import cv2\n",
    "from collections import defaultdict\n",
    "import csv"
   ]
  },
  {
   "cell_type": "code",
   "execution_count": 2,
   "id": "initial_id",
   "metadata": {
    "ExecuteTime": {
     "end_time": "2025-05-08T05:05:33.949396Z",
     "start_time": "2025-05-08T05:05:33.942514Z"
    },
    "collapsed": true
   },
   "outputs": [],
   "source": [
    "def load_images(data_dir):    \n",
    "    images = []\n",
    "    labels = []\n",
    "    \n",
    "    classes = sorted([d for d in os.listdir(data_dir) if os.path.isdir(os.path.join(data_dir, d))])\n",
    "    for class_name in classes:\n",
    "        class_dir = os.path.join(data_dir, class_name)\n",
    "        for file in tqdm(os.listdir(class_dir), desc=f\"Loading {class_name}\"):\n",
    "            if file.lower().endswith(('.jpg', '.jpeg', '.png')):\n",
    "                img = cv2.imread(str(os.path.join(class_dir, file)))\n",
    "                img = cv2.cvtColor(img, cv2.COLOR_BGR2RGB)\n",
    "                images.append(img)\n",
    "                labels.append(class_name)\n",
    "    return images, labels"
   ]
  },
  {
   "cell_type": "code",
   "execution_count": 3,
   "id": "13c29691089b8a4c",
   "metadata": {
    "ExecuteTime": {
     "end_time": "2025-05-08T05:05:33.964651Z",
     "start_time": "2025-05-08T05:05:33.950403Z"
    },
    "collapsed": false
   },
   "outputs": [],
   "source": [
    "def split_sets(images, labels, train_ratio=0.6, val_ratio=0.2, test_ratio=0.2, random_state=42):\n",
    "    assert np.isclose(train_ratio + val_ratio + test_ratio, 1.0)\n",
    "    \n",
    "    if labels is not None:\n",
    "        X_train, X_temp, y_train, y_temp = train_test_split(\n",
    "            images, labels,\n",
    "            train_size=train_ratio,\n",
    "            stratify=labels,\n",
    "            random_state=random_state,\n",
    "        )\n",
    "        \n",
    "        val_test_ratio = val_ratio / (val_ratio + test_ratio)\n",
    "        X_val, X_test, y_val, y_test = train_test_split(\n",
    "            X_temp, y_temp,\n",
    "            test_size=1 - val_test_ratio,\n",
    "            stratify=y_temp,\n",
    "            random_state=random_state,\n",
    "        )\n",
    "        return (X_train, y_train), (X_val, y_val), (X_test, y_test)"
   ]
  },
  {
   "cell_type": "code",
   "execution_count": 4,
   "id": "f22f60669d173c5b",
   "metadata": {
    "ExecuteTime": {
     "end_time": "2025-05-08T05:05:34.446923Z",
     "start_time": "2025-05-08T05:05:34.430034Z"
    },
    "collapsed": false
   },
   "outputs": [],
   "source": [
    "def save_set(set_dir, X, y):\n",
    "    basename = os.path.basename(set_dir)\n",
    "    if basename != 'test':\n",
    "        for class_name in set(y):\n",
    "            os.makedirs(os.path.join(set_dir, class_name), exist_ok=True)\n",
    "            \n",
    "        counter = defaultdict(int)\n",
    "        for image, class_name in tqdm(zip(X, y), desc=f\"Saving {os.path.basename(set_dir)} set\"):\n",
    "            cv2.imwrite(os.path.join(set_dir, str(class_name), str(counter[class_name]) + '.jpg'), image)\n",
    "            counter[class_name] += 1\n",
    "    else:\n",
    "        os.makedirs(set_dir, exist_ok=True)\n",
    "        \n",
    "        indices = np.arange(len(X))\n",
    "        np.random.shuffle(indices)\n",
    "        X_shuffled = [X[i] for i in indices.tolist()]\n",
    "        y_shuffled = [y[i] for i in indices.tolist()]\n",
    "        \n",
    "        counter = 0\n",
    "        csv_data = []\n",
    "        for image, class_name in tqdm(zip(X_shuffled, y_shuffled), desc=f\"Saving test set\"):\n",
    "            cv2.imwrite(os.path.join(set_dir, str(counter) + '.jpg'), image)\n",
    "            csv_data.append([str(counter) + '.jpg', class_name])\n",
    "            counter += 1\n",
    "            \n",
    "        csv_headers = ['file_name', 'label']\n",
    "        with open(\"output.csv\", \"w\", newline=\"\", encoding=\"utf-8\") as f:\n",
    "            writer = csv.writer(f)\n",
    "            writer.writerow(csv_headers)\n",
    "            writer.writerows(csv_data)\n",
    "\n",
    "def save_sets(set_dir, X_train, y_train, X_val, y_val, X_test, y_test):\n",
    "    save_set(os.path.join(set_dir, 'train'), X_train, y_train)\n",
    "    save_set(os.path.join(set_dir, 'val'), X_val, y_val)\n",
    "    save_set(os.path.join(set_dir, 'test'), X_test, y_test)"
   ]
  },
  {
   "cell_type": "code",
   "execution_count": 5,
   "id": "26ebde417843db0f",
   "metadata": {
    "ExecuteTime": {
     "end_time": "2025-05-08T05:06:27.309369Z",
     "start_time": "2025-05-08T05:05:35.673933Z"
    },
    "collapsed": false
   },
   "outputs": [
    {
     "ename": "FileNotFoundError",
     "evalue": "[Errno 2] No such file or directory: '../dataset'",
     "output_type": "error",
     "traceback": [
      "\u001b[31m---------------------------------------------------------------------------\u001b[39m",
      "\u001b[31mFileNotFoundError\u001b[39m                         Traceback (most recent call last)",
      "\u001b[36mCell\u001b[39m\u001b[36m \u001b[39m\u001b[32mIn[5]\u001b[39m\u001b[32m, line 1\u001b[39m\n\u001b[32m----> \u001b[39m\u001b[32m1\u001b[39m images, labels = load_images(\u001b[33m\"\u001b[39m\u001b[33m../dataset\u001b[39m\u001b[33m\"\u001b[39m)\n\u001b[32m      2\u001b[39m (X_train, y_train), (X_val, y_val), (X_test, y_test) = split_sets(images, labels)\n\u001b[32m      3\u001b[39m save_sets(\u001b[33m\"\u001b[39m\u001b[33m../dataset_split\u001b[39m\u001b[33m\"\u001b[39m, X_train, y_train, X_val, y_val, X_test, y_test)\n",
      "\u001b[36mCell\u001b[39m\u001b[36m \u001b[39m\u001b[32mIn[2]\u001b[39m\u001b[32m, line 5\u001b[39m, in \u001b[36mload_images\u001b[39m\u001b[34m(data_dir)\u001b[39m\n\u001b[32m      2\u001b[39m images = []\n\u001b[32m      3\u001b[39m labels = []\n\u001b[32m----> \u001b[39m\u001b[32m5\u001b[39m classes = \u001b[38;5;28msorted\u001b[39m([d \u001b[38;5;28;01mfor\u001b[39;00m d \u001b[38;5;129;01min\u001b[39;00m os.listdir(data_dir) \u001b[38;5;28;01mif\u001b[39;00m os.path.isdir(os.path.join(data_dir, d))])\n\u001b[32m      6\u001b[39m \u001b[38;5;28;01mfor\u001b[39;00m class_name \u001b[38;5;129;01min\u001b[39;00m classes:\n\u001b[32m      7\u001b[39m     class_dir = os.path.join(data_dir, class_name)\n",
      "\u001b[31mFileNotFoundError\u001b[39m: [Errno 2] No such file or directory: '../dataset'"
     ]
    }
   ],
   "source": [
    "images, labels = load_images(\"../dataset\")\n",
    "(X_train, y_train), (X_val, y_val), (X_test, y_test) = split_sets(images, labels)\n",
    "save_sets(\"../dataset_split\", X_train, y_train, X_val, y_val, X_test, y_test)"
   ]
  },
  {
   "cell_type": "code",
   "execution_count": null,
   "id": "7fdc7de8b9cb4af4",
   "metadata": {
    "collapsed": false
   },
   "outputs": [],
   "source": []
  }
 ],
 "metadata": {
  "kernelspec": {
   "display_name": "Python 3",
   "language": "python",
   "name": "python3"
  },
  "language_info": {
   "codemirror_mode": {
    "name": "ipython",
    "version": 3
   },
   "file_extension": ".py",
   "mimetype": "text/x-python",
   "name": "python",
   "nbconvert_exporter": "python",
   "pygments_lexer": "ipython3",
   "version": "3.12.11"
  }
 },
 "nbformat": 4,
 "nbformat_minor": 5
}
