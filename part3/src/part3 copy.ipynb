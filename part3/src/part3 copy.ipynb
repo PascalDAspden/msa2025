{
 "cells": [
  {
   "cell_type": "markdown",
   "id": "2249078461bec40c",
   "metadata": {
    "collapsed": false
   },
   "source": [
    "## Step 0. Folder Structure\n",
    "```\n",
    "3. Deep Learning Project/\n",
    "├── dataset_split/\n",
    "│   ├── train/\n",
    "│   │   ├── african_elephant (780 images)\n",
    "│   │   ├── airliner (780 images)\n",
    "│   │   └── ... (8 more folders)\n",
    "│   ├── val/\n",
    "│   │   ├── african_elephant (260 images)\n",
    "│   │   ├── airliner (260 images)\n",
    "│   │   └── ... (8 more folders)\n",
    "│   └── test (2600 images)\n",
    "├── data_preprocessed/\n",
    "│   ├── labels_train.pt\n",
    "│   ├── labels_val.pt\n",
    "│   ├── tensor_test.pt\n",
    "│   ├── tensor_train.pt\n",
    "│   └── tensor_val.pt\n",
    "├── models/\n",
    "│   ├── resnet18_checkpoint.pkl\n",
    "│   └── resnet34_checkpoint.pkl\n",
    "├── src/\n",
    "│   └── part3.ipynb\n",
    "├── src_datasplit/\n",
    "│   └── data_split.ipynb\n",
    "├── MSA.yaml\n",
    "├── README.md\n",
    "└── IEEE_Report_Template.docx\n",
    "```\n"
   ]
  },
  {
   "cell_type": "code",
   "execution_count": 1,
   "id": "feff9f82a794ed57",
   "metadata": {
    "ExecuteTime": {
     "end_time": "2025-05-10T03:43:05.563885Z",
     "start_time": "2025-05-10T03:43:05.550616Z"
    },
    "collapsed": false
   },
   "outputs": [
    {
     "ename": "ModuleNotFoundError",
     "evalue": "No module named 'pandas'",
     "output_type": "error",
     "traceback": [
      "\u001b[31m---------------------------------------------------------------------------\u001b[39m",
      "\u001b[31mModuleNotFoundError\u001b[39m                       Traceback (most recent call last)",
      "\u001b[36mCell\u001b[39m\u001b[36m \u001b[39m\u001b[32mIn[1]\u001b[39m\u001b[32m, line 14\u001b[39m\n\u001b[32m     12\u001b[39m \u001b[38;5;28;01mimport\u001b[39;00m\u001b[38;5;250m \u001b[39m\u001b[34;01mmatplotlib\u001b[39;00m\u001b[34;01m.\u001b[39;00m\u001b[34;01mpyplot\u001b[39;00m\u001b[38;5;250m \u001b[39m\u001b[38;5;28;01mas\u001b[39;00m\u001b[38;5;250m \u001b[39m\u001b[34;01mplt\u001b[39;00m\n\u001b[32m     13\u001b[39m \u001b[38;5;28;01mimport\u001b[39;00m\u001b[38;5;250m \u001b[39m\u001b[34;01mcsv\u001b[39;00m\n\u001b[32m---> \u001b[39m\u001b[32m14\u001b[39m \u001b[38;5;28;01mimport\u001b[39;00m\u001b[38;5;250m \u001b[39m\u001b[34;01mpandas\u001b[39;00m\u001b[38;5;250m \u001b[39m\u001b[38;5;28;01mas\u001b[39;00m\u001b[38;5;250m \u001b[39m\u001b[34;01mpd\u001b[39;00m\n",
      "\u001b[31mModuleNotFoundError\u001b[39m: No module named 'pandas'"
     ]
    }
   ],
   "source": [
    "from typing import Tuple, List\n",
    "import os\n",
    "import cv2\n",
    "from tqdm import tqdm\n",
    "import numpy as np\n",
    "import torch\n",
    "import torchvision\n",
    "import torch.nn as nn\n",
    "import torch.nn.functional as F\n",
    "from collections import OrderedDict\n",
    "import copy\n",
    "import matplotlib.pyplot as plt\n",
    "import csv"
   ]
  },
  {
   "cell_type": "markdown",
   "id": "129404feccd45358",
   "metadata": {
    "collapsed": false
   },
   "source": [
    "## Step 1 Preprocessing\n",
    "1. Load images and labels from folders into lists.\n",
    "2. Resize the images.\n",
    "3. Convert the image data type as float32 and limit the range in [0, 1].\n",
    "4. Convert data from NHWC to NCHW and creat a PyTorch tensor from it.\n",
    "5. Per-channel standardization of the dataset using training set statistics (mean and std computed independently for each color channel).\n",
    "6. Saving the pre-processed sets as .pt files in the correct directory.\n",
    "7. Load the pre-processed sets from .pt files. "
   ]
  },
  {
   "cell_type": "code",
   "execution_count": 2,
   "id": "initial_id",
   "metadata": {
    "ExecuteTime": {
     "end_time": "2025-05-10T03:38:13.117713Z",
     "start_time": "2025-05-10T03:38:13.110009Z"
    },
    "collapsed": true
   },
   "outputs": [],
   "source": [
    "def image_loader(set_dir: str):\n",
    "    images = []\n",
    "    labels = []\n",
    "    # Check if the directory contains class subfolders (train/val) or images directly (test)\n",
    "    if any(os.path.isdir(os.path.join(set_dir, d)) for d in os.listdir(set_dir)):\n",
    "        # Training/validation set: iterate each class folder\n",
    "        class_dirs = sorted([d for d in os.listdir(set_dir) if os.path.isdir(os.path.join(set_dir, d))])\n",
    "        for class_dir in class_dirs:\n",
    "            class_path = os.path.join(set_dir, class_dir)\n",
    "            for img_file in tqdm(sorted(os.listdir(class_path)), desc=f\"Loading {class_dir}\", unit=\"img\"):\n",
    "                img_path = os.path.join(class_path, img_file)\n",
    "                img = cv2.imread(img_path)  # BGR format\n",
    "                if img is None: \n",
    "                    continue\n",
    "                images.append(img)\n",
    "                labels.append(class_dir)\n",
    "    else:\n",
    "        # Test set: images directly in folder, sorted by filename\n",
    "        img_files = sorted(\n",
    "            [f for f in os.listdir(set_dir) if os.path.isfile(os.path.join(set_dir, f))],\n",
    "            key=lambda x: int(os.path.splitext(x)[0])\n",
    "        )\n",
    "        for img_file in tqdm(img_files, desc=\"Loading testing set\", unit=\"img\"):\n",
    "            img_path = os.path.join(set_dir, img_file)\n",
    "            img = cv2.imread(img_path)\n",
    "            if img is None:\n",
    "                continue\n",
    "            images.append(img)\n",
    "            labels.append(\"\")  # no labels for test\n",
    "    return images, labels"
   ]
  },
  {
   "cell_type": "code",
   "execution_count": 3,
   "id": "e9151a560c344fe2",
   "metadata": {
    "ExecuteTime": {
     "end_time": "2025-05-10T03:38:13.472357Z",
     "start_time": "2025-05-10T03:38:13.460924Z"
    },
    "collapsed": false
   },
   "outputs": [],
   "source": [
    "def img_resize(images: list, target_size: int = 224):\n",
    "    if not images:\n",
    "        return np.array([])\n",
    "    processed_images = []\n",
    "    for img in images:\n",
    "        h, w = img.shape[:2]\n",
    "        # Resize while preserving aspect ratio\n",
    "        if h < w:\n",
    "            new_h = target_size\n",
    "            new_w = int(w * target_size / h)\n",
    "        else:\n",
    "            new_w = target_size\n",
    "            new_h = int(h * target_size / w)\n",
    "        img_resized = cv2.resize(img, (new_w, new_h), interpolation=cv2.INTER_AREA)\n",
    "        # Center crop to square target_size\n",
    "        top = (img_resized.shape[0] - target_size) // 2\n",
    "        left = (img_resized.shape[1] - target_size) // 2\n",
    "        img_cropped = img_resized[top:top+target_size, left:left+target_size]\n",
    "        processed_images.append(img_cropped)\n",
    "    return np.stack(processed_images, axis=0)"
   ]
  },
  {
   "cell_type": "code",
   "execution_count": 4,
   "id": "bd1862b268144556",
   "metadata": {
    "ExecuteTime": {
     "end_time": "2025-05-10T03:38:39.249145Z",
     "start_time": "2025-05-10T03:38:14.305937Z"
    },
    "collapsed": false
   },
   "outputs": [
    {
     "name": "stderr",
     "output_type": "stream",
     "text": [
      "Loading african_elephant:   4%|▍         | 30/780 [00:00<00:02, 299.64img/s]"
     ]
    },
    {
     "name": "stderr",
     "output_type": "stream",
     "text": [
      "Loading african_elephant: 100%|██████████| 780/780 [00:01<00:00, 403.15img/s]\n",
      "Loading airliner: 100%|██████████| 780/780 [00:01<00:00, 589.08img/s]\n",
      "Loading banana: 100%|██████████| 780/780 [00:01<00:00, 497.13img/s]\n",
      "Loading convertible_car: 100%|██████████| 780/780 [00:02<00:00, 369.51img/s]\n",
      "Loading golden_retriever: 100%|██████████| 780/780 [00:01<00:00, 414.77img/s]\n",
      "Loading goldfish: 100%|██████████| 780/780 [00:01<00:00, 457.85img/s]\n",
      "Loading parachute: 100%|██████████| 780/780 [00:02<00:00, 308.08img/s]\n",
      "Loading rugby: 100%|██████████| 780/780 [00:03<00:00, 251.14img/s]\n",
      "Loading sunglasses: 100%|██████████| 780/780 [00:01<00:00, 446.05img/s]\n",
      "Loading tiger_cat: 100%|██████████| 780/780 [00:03<00:00, 259.78img/s]\n",
      "Loading african_elephant: 100%|██████████| 260/260 [00:00<00:00, 350.56img/s]\n",
      "Loading airliner: 100%|██████████| 260/260 [00:00<00:00, 421.15img/s]\n",
      "Loading banana: 100%|██████████| 260/260 [00:00<00:00, 360.18img/s]\n",
      "Loading convertible_car: 100%|██████████| 260/260 [00:00<00:00, 272.66img/s]\n",
      "Loading golden_retriever: 100%|██████████| 260/260 [00:01<00:00, 211.87img/s]\n",
      "Loading goldfish: 100%|██████████| 260/260 [00:00<00:00, 350.85img/s]\n",
      "Loading parachute: 100%|██████████| 260/260 [00:00<00:00, 403.02img/s]\n",
      "Loading rugby: 100%|██████████| 260/260 [00:00<00:00, 287.21img/s]\n",
      "Loading sunglasses: 100%|██████████| 260/260 [00:01<00:00, 223.83img/s]\n",
      "Loading tiger_cat: 100%|██████████| 260/260 [00:00<00:00, 281.70img/s]\n",
      "Loading testing set: 100%|██████████| 2600/2600 [00:07<00:00, 334.96img/s]\n"
     ]
    }
   ],
   "source": [
    "images_train, labels_train = image_loader(\"../dataset_split/train\")\n",
    "images_val, labels_val = image_loader(\"../dataset_split/val\")\n",
    "images_test, _ = image_loader(\"../dataset_split/test\")"
   ]
  },
  {
   "cell_type": "code",
   "execution_count": 5,
   "id": "1975435fea13d751",
   "metadata": {
    "ExecuteTime": {
     "end_time": "2025-05-10T03:39:17.095684Z",
     "start_time": "2025-05-10T03:38:57.883480Z"
    },
    "collapsed": false
   },
   "outputs": [],
   "source": [
    "# Resize the images\n",
    "\n",
    "images_train = img_resize(images_train, 224)\n",
    "images_val = img_resize(images_val, 224)\n",
    "images_test = img_resize(images_test, 224)"
   ]
  },
  {
   "cell_type": "code",
   "execution_count": 6,
   "id": "bd71fcddecfefdbf",
   "metadata": {
    "ExecuteTime": {
     "end_time": "2025-05-10T03:39:20.788788Z",
     "start_time": "2025-05-10T03:39:17.097418Z"
    },
    "collapsed": false
   },
   "outputs": [],
   "source": [
    "# TODO: 3. Convert the image data type as float32 and limit the range in [0, 1].\n",
    "\n",
    "images_train = images_train.astype(np.float32) / 255.0\n",
    "images_val = images_val.astype(np.float32) / 255.0\n",
    "images_test = images_test.astype(np.float32) / 255.0"
   ]
  },
  {
   "cell_type": "code",
   "execution_count": 7,
   "id": "1938cec6018a8176",
   "metadata": {
    "ExecuteTime": {
     "end_time": "2025-05-10T03:39:21.156559Z",
     "start_time": "2025-05-10T03:39:20.789492Z"
    },
    "collapsed": false
   },
   "outputs": [],
   "source": [
    "# TODO: 4. Convert data from NHWC to NCHW and creat a PyTorch tensor from it.\n",
    "\n",
    "tensor_train = torch.tensor(images_train.transpose(0, 3, 1, 2))\n",
    "tensor_val   = torch.tensor(images_val.transpose(0, 3, 1, 2))\n",
    "tensor_test  = torch.tensor(images_test.transpose(0, 3, 1, 2))\n"
   ]
  },
  {
   "cell_type": "code",
   "execution_count": 8,
   "id": "d584e1b61e015747",
   "metadata": {
    "ExecuteTime": {
     "end_time": "2025-05-10T03:39:32.523629Z",
     "start_time": "2025-05-10T03:39:21.158863Z"
    },
    "collapsed": false
   },
   "outputs": [],
   "source": [
    "# TODO: 5. Per-channel standardization of the dataset using training set statistics (mean and std computed independently for each color channel).\n",
    "\n",
    "train_mean = tensor_train.mean(dim=[0, 2, 3])\n",
    "train_std  = tensor_train.std(dim=[0, 2, 3])\n",
    "\n",
    "# Standardize all sets using training statistics\n",
    "tensor_train = (tensor_train - train_mean[None, :, None, None]) / train_std[None, :, None, None]\n",
    "tensor_val   = (tensor_val   - train_mean[None, :, None, None]) / train_std[None, :, None, None]\n",
    "tensor_test  = (tensor_test  - train_mean[None, :, None, None]) / train_std[None, :, None, None]"
   ]
  },
  {
   "cell_type": "code",
   "execution_count": 9,
   "id": "9f7a684ba9e6561c",
   "metadata": {
    "ExecuteTime": {
     "end_time": "2025-05-10T03:39:41.944582Z",
     "start_time": "2025-05-10T03:39:32.524747Z"
    },
    "collapsed": false
   },
   "outputs": [],
   "source": [
    "# TODO: 6. Save the pre-processed sets as .pt files.\n",
    "\n",
    "# 6.1 Save the preprocessed tensors\n",
    "torch.save(tensor_train, \"tensor_train.pt\")\n",
    "torch.save(tensor_val, \"tensor_val.pt\")\n",
    "torch.save(tensor_test, \"tensor_test.pt\")\n",
    "\n",
    "# 6.2 Create unique label list and mappings\n",
    "unique_labels = sorted(set(labels_train))  # assuming labels_train was loaded earlier\n",
    "label_to_index = {label: idx for idx, label in enumerate(unique_labels)}\n",
    "index_to_label = {idx: label for label, idx in label_to_index.items()}\n",
    "\n",
    "# 6.3 Map string labels to integer indices\n",
    "labels_train_index = [label_to_index[label] for label in labels_train]\n",
    "labels_val_index = [label_to_index[label] for label in labels_val]\n",
    "\n",
    "# Convert to PyTorch tensors\n",
    "labels_train_index = torch.tensor(labels_train_index, dtype=torch.long)\n",
    "labels_val_index = torch.tensor(labels_val_index, dtype=torch.long)\n",
    "\n",
    "# 6.4 Save label-related mappings and indices\n",
    "torch.save(labels_train_index, \"labels_train_index.pt\")\n",
    "torch.save(labels_val_index, \"labels_val_index.pt\")\n",
    "torch.save(label_to_index, \"label_to_index.pt\")\n",
    "torch.save(index_to_label, \"index_to_label.pt\")\n"
   ]
  },
  {
   "cell_type": "code",
   "execution_count": 171,
   "id": "a3a5a646027a826",
   "metadata": {
    "ExecuteTime": {
     "end_time": "2025-05-10T03:39:45.192760Z",
     "start_time": "2025-05-10T03:39:41.946771Z"
    },
    "collapsed": false
   },
   "outputs": [
    {
     "name": "stderr",
     "output_type": "stream",
     "text": [
      "/var/folders/xk/22ly48k565557xrbtq5p2dm80000gn/T/ipykernel_1562/295508795.py:3: FutureWarning: You are using `torch.load` with `weights_only=False` (the current default value), which uses the default pickle module implicitly. It is possible to construct malicious pickle data which will execute arbitrary code during unpickling (See https://github.com/pytorch/pytorch/blob/main/SECURITY.md#untrusted-models for more details). In a future release, the default value for `weights_only` will be flipped to `True`. This limits the functions that could be executed during unpickling. Arbitrary objects will no longer be allowed to be loaded via this mode unless they are explicitly allowlisted by the user via `torch.serialization.add_safe_globals`. We recommend you start setting `weights_only=True` for any use case where you don't have full control of the loaded file. Please open an issue on GitHub for any issues related to this experimental feature.\n",
      "  tensor_train = torch.load(\"tensor_train.pt\")\n",
      "/var/folders/xk/22ly48k565557xrbtq5p2dm80000gn/T/ipykernel_1562/295508795.py:4: FutureWarning: You are using `torch.load` with `weights_only=False` (the current default value), which uses the default pickle module implicitly. It is possible to construct malicious pickle data which will execute arbitrary code during unpickling (See https://github.com/pytorch/pytorch/blob/main/SECURITY.md#untrusted-models for more details). In a future release, the default value for `weights_only` will be flipped to `True`. This limits the functions that could be executed during unpickling. Arbitrary objects will no longer be allowed to be loaded via this mode unless they are explicitly allowlisted by the user via `torch.serialization.add_safe_globals`. We recommend you start setting `weights_only=True` for any use case where you don't have full control of the loaded file. Please open an issue on GitHub for any issues related to this experimental feature.\n",
      "  tensor_val = torch.load(\"tensor_val.pt\")\n",
      "/var/folders/xk/22ly48k565557xrbtq5p2dm80000gn/T/ipykernel_1562/295508795.py:5: FutureWarning: You are using `torch.load` with `weights_only=False` (the current default value), which uses the default pickle module implicitly. It is possible to construct malicious pickle data which will execute arbitrary code during unpickling (See https://github.com/pytorch/pytorch/blob/main/SECURITY.md#untrusted-models for more details). In a future release, the default value for `weights_only` will be flipped to `True`. This limits the functions that could be executed during unpickling. Arbitrary objects will no longer be allowed to be loaded via this mode unless they are explicitly allowlisted by the user via `torch.serialization.add_safe_globals`. We recommend you start setting `weights_only=True` for any use case where you don't have full control of the loaded file. Please open an issue on GitHub for any issues related to this experimental feature.\n",
      "  tensor_test = torch.load(\"tensor_test.pt\")\n",
      "/var/folders/xk/22ly48k565557xrbtq5p2dm80000gn/T/ipykernel_1562/295508795.py:7: FutureWarning: You are using `torch.load` with `weights_only=False` (the current default value), which uses the default pickle module implicitly. It is possible to construct malicious pickle data which will execute arbitrary code during unpickling (See https://github.com/pytorch/pytorch/blob/main/SECURITY.md#untrusted-models for more details). In a future release, the default value for `weights_only` will be flipped to `True`. This limits the functions that could be executed during unpickling. Arbitrary objects will no longer be allowed to be loaded via this mode unless they are explicitly allowlisted by the user via `torch.serialization.add_safe_globals`. We recommend you start setting `weights_only=True` for any use case where you don't have full control of the loaded file. Please open an issue on GitHub for any issues related to this experimental feature.\n",
      "  labels_train_index = torch.load(\"labels_train_index.pt\")\n",
      "/var/folders/xk/22ly48k565557xrbtq5p2dm80000gn/T/ipykernel_1562/295508795.py:8: FutureWarning: You are using `torch.load` with `weights_only=False` (the current default value), which uses the default pickle module implicitly. It is possible to construct malicious pickle data which will execute arbitrary code during unpickling (See https://github.com/pytorch/pytorch/blob/main/SECURITY.md#untrusted-models for more details). In a future release, the default value for `weights_only` will be flipped to `True`. This limits the functions that could be executed during unpickling. Arbitrary objects will no longer be allowed to be loaded via this mode unless they are explicitly allowlisted by the user via `torch.serialization.add_safe_globals`. We recommend you start setting `weights_only=True` for any use case where you don't have full control of the loaded file. Please open an issue on GitHub for any issues related to this experimental feature.\n",
      "  labels_val_index = torch.load(\"labels_val_index.pt\")\n"
     ]
    }
   ],
   "source": [
    "# TODO: 7. Load the pre-processed sets from .pt files. The data can be used directly in future without pre-processing once more by loading from the folder.\n",
    "\n",
    "tensor_train = torch.load(\"tensor_train.pt\")\n",
    "tensor_val = torch.load(\"tensor_val.pt\")\n",
    "tensor_test = torch.load(\"tensor_test.pt\")\n",
    "\n",
    "labels_train_index = torch.load(\"labels_train_index.pt\")\n",
    "labels_val_index = torch.load(\"labels_val_index.pt\")"
   ]
  },
  {
   "cell_type": "markdown",
   "id": "f5cb7cfa317410ff",
   "metadata": {
    "collapsed": false
   },
   "source": [
    "# Step 2 Train the teacher model (ResNet34)\n",
    "1. Set hyperparameters for the training process.\n",
    "2. Create a pretrained ResNet34.\n",
    "3. Define the optimizer, loss function, etc.\n",
    "4. Train ResNet34 and save the best-performing parameters to 'resnet34_checkpoint.pkl'.\n",
    "5. Plot the loss and accuracy curves."
   ]
  },
  {
   "cell_type": "code",
   "execution_count": 172,
   "id": "745979a1b12465eb",
   "metadata": {
    "ExecuteTime": {
     "end_time": "2025-05-10T01:43:51.705549Z",
     "start_time": "2025-05-10T01:43:51.663106Z"
    },
    "collapsed": false
   },
   "outputs": [
    {
     "name": "stdout",
     "output_type": "stream",
     "text": [
      "tensor(10)\n",
      "torch.Size([7800, 3, 224, 224])\n",
      "torch.Size([2600, 3, 224, 224])\n",
      "torch.Size([2600, 3, 224, 224])\n",
      "torch.Size([7800])\n",
      "torch.Size([2600])\n"
     ]
    }
   ],
   "source": [
    "# Verify data shapes\n",
    "\n",
    "num_classes = max(labels_train_index) + 1\n",
    "print(num_classes)\n",
    "print(tensor_train.shape)\n",
    "print(tensor_val.shape)\n",
    "print(tensor_test.shape)\n",
    "print(labels_train_index.shape)\n",
    "print(labels_val_index.shape)"
   ]
  },
  {
   "cell_type": "code",
   "execution_count": 173,
   "id": "507aa43e1a3701b5",
   "metadata": {
    "ExecuteTime": {
     "end_time": "2025-05-10T01:43:52.604546Z",
     "start_time": "2025-05-10T01:43:52.600245Z"
    },
    "collapsed": false
   },
   "outputs": [],
   "source": [
    "MAX_EPOCH = 5       \n",
    "INIT_LR = 0.001\n",
    "BATCH_SIZE = 16 #16???      \n",
    "device = torch.device(\"cpu\")\n"
   ]
  },
  {
   "cell_type": "code",
   "execution_count": 174,
   "id": "c8b9bf9ed5ae5cf9",
   "metadata": {
    "ExecuteTime": {
     "end_time": "2025-05-10T01:43:55.541802Z",
     "start_time": "2025-05-10T01:43:55.291383Z"
    },
    "collapsed": false
   },
   "outputs": [],
   "source": [
    "num_classes = len(torch.unique(labels_train_index)) \n",
    "resnet34 = torchvision.models.resnet34(pretrained=True)\n",
    "resnet34.fc = nn.Linear(resnet34.fc.in_features, num_classes)\n",
    "resnet34 = resnet34.to(device)"
   ]
  },
  {
   "cell_type": "code",
   "execution_count": 175,
   "id": "70de5ac59beb12d",
   "metadata": {
    "ExecuteTime": {
     "end_time": "2025-05-10T01:43:56.555839Z",
     "start_time": "2025-05-10T01:43:56.542721Z"
    },
    "collapsed": false
   },
   "outputs": [],
   "source": [
    "# TODO: 3. Define the optimizer, loss function, etc.\n",
    "\n",
    "optimizer = torch.optim.Adam(resnet34.parameters(), lr=INIT_LR)\n",
    "\n",
    "criterion = nn.CrossEntropyLoss()"
   ]
  },
  {
   "cell_type": "code",
   "execution_count": null,
   "id": "2e830d9a",
   "metadata": {},
   "outputs": [],
   "source": [
    "import torch\n",
    "import torchvision\n",
    "import torch.nn as nn\n",
    "\n",
    "# 1. (Re)instantiate with the right head\n",
    "num_classes = len(torch.unique(labels_val_index))\n",
    "resnet34 = torchvision.models.resnet34(pretrained=False)\n",
    "resnet34.fc = nn.Linear(resnet34.fc.in_features, num_classes)\n",
    "resnet34 = resnet34.to(device)\n",
    "\n",
    "# 2. Load saved weights (skip fc mismatch)\n",
    "ckpt = torch.load('resnet34_checkpoint.pkl', map_location=device)\n",
    "filtered = {k: v for k, v in ckpt.items() if not k.startswith('fc.')}\n",
    "resnet34.load_state_dict({**resnet34.state_dict(), **filtered})\n",
    "\n",
    "# 3. Switch to eval mode\n",
    "resnet34.eval()\n",
    "\n",
    "# 4. Run your test loop (no optimizer needed)\n",
    "from torch.utils.data import DataLoader, TensorDataset\n",
    "import torch.nn.functional as F\n",
    "\n",
    "test_ds = TensorDataset(tensor_val, labels_val_index)\n",
    "test_loader = DataLoader(test_ds, batch_size=BATCH_SIZE, shuffle=False)\n",
    "\n",
    "test_loss, correct = 0.0, 0\n",
    "with torch.no_grad():\n",
    "    for x, y in test_loader:\n",
    "        x, y = x.to(device), y.to(device)\n",
    "        out = resnet34(x)\n",
    "        test_loss += F.cross_entropy(out, y, reduction='sum').item()\n",
    "        correct  += (out.argmax(1) == y).sum().item()\n",
    "\n",
    "n = len(test_ds)\n",
    "print(f\"Test Loss: {test_loss/n:.4f}  |  Accuracy: {correct}/{n} = {correct/n:.4f}\")\n"
   ]
  },
  {
   "cell_type": "code",
   "execution_count": 176,
   "id": "2b0744cc",
   "metadata": {},
   "outputs": [
    {
     "name": "stdout",
     "output_type": "stream",
     "text": [
      "\n",
      "Epoch 1/5\n"
     ]
    },
    {
     "name": "stderr",
     "output_type": "stream",
     "text": [
      "python(12997) MallocStackLogging: can't turn off malloc stack logging because it was not enabled.\n",
      "python(12998) MallocStackLogging: can't turn off malloc stack logging because it was not enabled.\n",
      "python(12999) MallocStackLogging: can't turn off malloc stack logging because it was not enabled.\n",
      "python(13000) MallocStackLogging: can't turn off malloc stack logging because it was not enabled.\n"
     ]
    },
    {
     "name": "stdout",
     "output_type": "stream",
     "text": [
      "  ⏳ Training batch 488/488 — 0 batches lefttt\n",
      "📊 Train Loss: 1.0832 | Acc: 0.6597 | Val Loss: 0.6913 | Val Acc: 0.7854\n",
      "⏱️ Epoch time: 3213.98s\n",
      "✅ Saved new best model.\n",
      "\n",
      "Epoch 2/5\n"
     ]
    },
    {
     "name": "stderr",
     "output_type": "stream",
     "text": [
      "python(17168) MallocStackLogging: can't turn off malloc stack logging because it was not enabled.\n",
      "python(17169) MallocStackLogging: can't turn off malloc stack logging because it was not enabled.\n",
      "python(17170) MallocStackLogging: can't turn off malloc stack logging because it was not enabled.\n",
      "python(17171) MallocStackLogging: can't turn off malloc stack logging because it was not enabled.\n"
     ]
    },
    {
     "name": "stdout",
     "output_type": "stream",
     "text": [
      "  ⏳ Training batch 488/488 — 0 batches lefttt\n",
      "📊 Train Loss: 0.6090 | Acc: 0.8086 | Val Loss: 0.6683 | Val Acc: 0.7935\n",
      "⏱️ Epoch time: 1531.53s\n",
      "✅ Saved new best model.\n",
      "\n",
      "Epoch 3/5\n"
     ]
    },
    {
     "name": "stderr",
     "output_type": "stream",
     "text": [
      "python(21285) MallocStackLogging: can't turn off malloc stack logging because it was not enabled.\n",
      "python(21286) MallocStackLogging: can't turn off malloc stack logging because it was not enabled.\n",
      "python(21287) MallocStackLogging: can't turn off malloc stack logging because it was not enabled.\n",
      "python(21288) MallocStackLogging: can't turn off malloc stack logging because it was not enabled.\n"
     ]
    },
    {
     "name": "stdout",
     "output_type": "stream",
     "text": [
      "  ⏳ Training batch 20/488 — 468 batches left"
     ]
    },
    {
     "ename": "KeyboardInterrupt",
     "evalue": "",
     "output_type": "error",
     "traceback": [
      "\u001b[31m---------------------------------------------------------------------------\u001b[39m",
      "\u001b[31mKeyboardInterrupt\u001b[39m                         Traceback (most recent call last)",
      "\u001b[36mCell\u001b[39m\u001b[36m \u001b[39m\u001b[32mIn[176]\u001b[39m\u001b[32m, line 35\u001b[39m\n\u001b[32m     33\u001b[39m outputs = resnet34(inputs)\n\u001b[32m     34\u001b[39m loss = criterion(outputs, labels)\n\u001b[32m---> \u001b[39m\u001b[32m35\u001b[39m loss.backward()\n\u001b[32m     36\u001b[39m optimizer.step()\n\u001b[32m     38\u001b[39m running_loss += loss.item() * inputs.size(\u001b[32m0\u001b[39m)\n",
      "\u001b[36mFile \u001b[39m\u001b[32m/opt/anaconda3/envs/MSA/lib/python3.12/site-packages/torch/_tensor.py:581\u001b[39m, in \u001b[36mTensor.backward\u001b[39m\u001b[34m(self, gradient, retain_graph, create_graph, inputs)\u001b[39m\n\u001b[32m    571\u001b[39m \u001b[38;5;28;01mif\u001b[39;00m has_torch_function_unary(\u001b[38;5;28mself\u001b[39m):\n\u001b[32m    572\u001b[39m     \u001b[38;5;28;01mreturn\u001b[39;00m handle_torch_function(\n\u001b[32m    573\u001b[39m         Tensor.backward,\n\u001b[32m    574\u001b[39m         (\u001b[38;5;28mself\u001b[39m,),\n\u001b[32m   (...)\u001b[39m\u001b[32m    579\u001b[39m         inputs=inputs,\n\u001b[32m    580\u001b[39m     )\n\u001b[32m--> \u001b[39m\u001b[32m581\u001b[39m torch.autograd.backward(\n\u001b[32m    582\u001b[39m     \u001b[38;5;28mself\u001b[39m, gradient, retain_graph, create_graph, inputs=inputs\n\u001b[32m    583\u001b[39m )\n",
      "\u001b[36mFile \u001b[39m\u001b[32m/opt/anaconda3/envs/MSA/lib/python3.12/site-packages/torch/autograd/__init__.py:347\u001b[39m, in \u001b[36mbackward\u001b[39m\u001b[34m(tensors, grad_tensors, retain_graph, create_graph, grad_variables, inputs)\u001b[39m\n\u001b[32m    342\u001b[39m     retain_graph = create_graph\n\u001b[32m    344\u001b[39m \u001b[38;5;66;03m# The reason we repeat the same comment below is that\u001b[39;00m\n\u001b[32m    345\u001b[39m \u001b[38;5;66;03m# some Python versions print out the first line of a multi-line function\u001b[39;00m\n\u001b[32m    346\u001b[39m \u001b[38;5;66;03m# calls in the traceback and some print out the last line\u001b[39;00m\n\u001b[32m--> \u001b[39m\u001b[32m347\u001b[39m _engine_run_backward(\n\u001b[32m    348\u001b[39m     tensors,\n\u001b[32m    349\u001b[39m     grad_tensors_,\n\u001b[32m    350\u001b[39m     retain_graph,\n\u001b[32m    351\u001b[39m     create_graph,\n\u001b[32m    352\u001b[39m     inputs,\n\u001b[32m    353\u001b[39m     allow_unreachable=\u001b[38;5;28;01mTrue\u001b[39;00m,\n\u001b[32m    354\u001b[39m     accumulate_grad=\u001b[38;5;28;01mTrue\u001b[39;00m,\n\u001b[32m    355\u001b[39m )\n",
      "\u001b[36mFile \u001b[39m\u001b[32m/opt/anaconda3/envs/MSA/lib/python3.12/site-packages/torch/autograd/graph.py:825\u001b[39m, in \u001b[36m_engine_run_backward\u001b[39m\u001b[34m(t_outputs, *args, **kwargs)\u001b[39m\n\u001b[32m    823\u001b[39m     unregister_hooks = _register_logging_hooks_on_whole_graph(t_outputs)\n\u001b[32m    824\u001b[39m \u001b[38;5;28;01mtry\u001b[39;00m:\n\u001b[32m--> \u001b[39m\u001b[32m825\u001b[39m     \u001b[38;5;28;01mreturn\u001b[39;00m Variable._execution_engine.run_backward(  \u001b[38;5;66;03m# Calls into the C++ engine to run the backward pass\u001b[39;00m\n\u001b[32m    826\u001b[39m         t_outputs, *args, **kwargs\n\u001b[32m    827\u001b[39m     )  \u001b[38;5;66;03m# Calls into the C++ engine to run the backward pass\u001b[39;00m\n\u001b[32m    828\u001b[39m \u001b[38;5;28;01mfinally\u001b[39;00m:\n\u001b[32m    829\u001b[39m     \u001b[38;5;28;01mif\u001b[39;00m attach_logging_hooks:\n",
      "\u001b[31mKeyboardInterrupt\u001b[39m: "
     ]
    }
   ],
   "source": [
    "#testing worksssssss\n",
    "from torch.utils.data import TensorDataset, DataLoader\n",
    "import torch.nn.functional as F\n",
    "import copy\n",
    "import time\n",
    "\n",
    "train_dataset = TensorDataset(tensor_train, labels_train_index)\n",
    "val_dataset = TensorDataset(tensor_val, labels_val_index)\n",
    "train_loader = DataLoader(train_dataset, batch_size=BATCH_SIZE, shuffle=True, num_workers=4, pin_memory=True)\n",
    "val_loader = DataLoader(val_dataset, batch_size=BATCH_SIZE, shuffle=False, num_workers=0)\n",
    "\n",
    "best_acc = 0.0\n",
    "best_model_wts = copy.deepcopy(resnet34.state_dict())\n",
    "\n",
    "train_accs_resnet34, train_losses_resnet34 = [], []\n",
    "val_accs_resnet34, val_losses_resnet34 = [], []\n",
    "\n",
    "for epoch in range(MAX_EPOCH):\n",
    "    print(f'\\nEpoch {epoch+1}/{MAX_EPOCH}')\n",
    "    start_time = time.time()\n",
    "\n",
    "    # Training\n",
    "    resnet34.train()\n",
    "    running_loss = 0.0\n",
    "    running_corrects = 0\n",
    "    total_batches = len(train_loader)\n",
    "\n",
    "    for batch_idx, (inputs, labels) in enumerate(train_loader):\n",
    "        inputs = inputs.to(device)\n",
    "        labels = labels.to(device)\n",
    "\n",
    "        optimizer.zero_grad()\n",
    "        outputs = resnet34(inputs)\n",
    "        loss = criterion(outputs, labels)\n",
    "        loss.backward()\n",
    "        optimizer.step()\n",
    "\n",
    "        running_loss += loss.item() * inputs.size(0)\n",
    "        _, preds = torch.max(outputs, 1)\n",
    "        running_corrects += torch.sum(preds == labels)\n",
    "\n",
    "        # Show progress every 10 batches\n",
    "        if (batch_idx + 1) % 10 == 0 or (batch_idx + 1) == total_batches:\n",
    "            batches_left = total_batches - (batch_idx + 1)\n",
    "            print(f'\\r  ⏳ Training batch {batch_idx + 1}/{total_batches} — {batches_left} batches left', end='', flush=True)\n",
    "\n",
    "    epoch_loss = running_loss / len(train_dataset)\n",
    "    epoch_acc = running_corrects / len(train_dataset)\n",
    "    train_losses_resnet34.append(epoch_loss)\n",
    "    train_accs_resnet34.append(epoch_acc.item())\n",
    "\n",
    "    # Validation\n",
    "    resnet34.eval()\n",
    "    val_loss = 0.0\n",
    "    val_corrects = 0\n",
    "\n",
    "    with torch.no_grad():\n",
    "        for inputs, labels in val_loader:\n",
    "            inputs = inputs.to(device)\n",
    "            labels = labels.to(device)\n",
    "\n",
    "            outputs = resnet34(inputs)\n",
    "            loss = criterion(outputs, labels)\n",
    "\n",
    "            val_loss += loss.item() * inputs.size(0)\n",
    "            _, preds = torch.max(outputs, 1)\n",
    "            val_corrects += torch.sum(preds == labels)\n",
    "\n",
    "    val_epoch_loss = val_loss / len(val_dataset)\n",
    "    val_epoch_acc = val_corrects.double() / len(val_dataset)\n",
    "    val_losses_resnet34.append(val_epoch_loss)\n",
    "    val_accs_resnet34.append(val_epoch_acc.item())\n",
    "\n",
    "    print(f'\\n📊 Train Loss: {epoch_loss:.4f} | Acc: {epoch_acc:.4f} | '\n",
    "          f'Val Loss: {val_epoch_loss:.4f} | Val Acc: {val_epoch_acc:.4f}')\n",
    "    print(f\"⏱️ Epoch time: {(time.time() - start_time):.2f}s\")\n",
    "\n",
    "    if val_epoch_acc > best_acc:\n",
    "        best_acc = val_epoch_acc\n",
    "        best_model_wts = copy.deepcopy(resnet34.state_dict())\n",
    "        torch.save(best_model_wts, 'resnet34_checkpoint.pkl')\n",
    "        print(\"✅ Saved new best model.\")\n",
    "\n",
    "resnet34.load_state_dict(best_model_wts)\n"
   ]
  },
  {
   "cell_type": "code",
   "execution_count": 153,
   "id": "65a797debcc531db",
   "metadata": {
    "collapsed": false
   },
   "outputs": [
    {
     "name": "stdout",
     "output_type": "stream",
     "text": [
      "\n",
      "Epoch 1/5\n"
     ]
    },
    {
     "name": "stderr",
     "output_type": "stream",
     "text": [
      "python(9993) MallocStackLogging: can't turn off malloc stack logging because it was not enabled.\n",
      "python(9994) MallocStackLogging: can't turn off malloc stack logging because it was not enabled.\n",
      "python(9995) MallocStackLogging: can't turn off malloc stack logging because it was not enabled.\n",
      "python(9996) MallocStackLogging: can't turn off malloc stack logging because it was not enabled.\n"
     ]
    },
    {
     "ename": "KeyboardInterrupt",
     "evalue": "",
     "output_type": "error",
     "traceback": [
      "\u001b[31m---------------------------------------------------------------------------\u001b[39m",
      "\u001b[31mKeyboardInterrupt\u001b[39m                         Traceback (most recent call last)",
      "\u001b[36mCell\u001b[39m\u001b[36m \u001b[39m\u001b[32mIn[153]\u001b[39m\u001b[32m, line 31\u001b[39m\n\u001b[32m     29\u001b[39m outputs = resnet34(inputs)\n\u001b[32m     30\u001b[39m loss = criterion(outputs, labels)\n\u001b[32m---> \u001b[39m\u001b[32m31\u001b[39m loss.backward()\n\u001b[32m     32\u001b[39m optimizer.step()\n\u001b[32m     34\u001b[39m running_loss += loss.item() * inputs.size(\u001b[32m0\u001b[39m)\n",
      "\u001b[36mFile \u001b[39m\u001b[32m/opt/anaconda3/envs/MSA/lib/python3.12/site-packages/torch/_tensor.py:581\u001b[39m, in \u001b[36mTensor.backward\u001b[39m\u001b[34m(self, gradient, retain_graph, create_graph, inputs)\u001b[39m\n\u001b[32m    571\u001b[39m \u001b[38;5;28;01mif\u001b[39;00m has_torch_function_unary(\u001b[38;5;28mself\u001b[39m):\n\u001b[32m    572\u001b[39m     \u001b[38;5;28;01mreturn\u001b[39;00m handle_torch_function(\n\u001b[32m    573\u001b[39m         Tensor.backward,\n\u001b[32m    574\u001b[39m         (\u001b[38;5;28mself\u001b[39m,),\n\u001b[32m   (...)\u001b[39m\u001b[32m    579\u001b[39m         inputs=inputs,\n\u001b[32m    580\u001b[39m     )\n\u001b[32m--> \u001b[39m\u001b[32m581\u001b[39m torch.autograd.backward(\n\u001b[32m    582\u001b[39m     \u001b[38;5;28mself\u001b[39m, gradient, retain_graph, create_graph, inputs=inputs\n\u001b[32m    583\u001b[39m )\n",
      "\u001b[36mFile \u001b[39m\u001b[32m/opt/anaconda3/envs/MSA/lib/python3.12/site-packages/torch/autograd/__init__.py:347\u001b[39m, in \u001b[36mbackward\u001b[39m\u001b[34m(tensors, grad_tensors, retain_graph, create_graph, grad_variables, inputs)\u001b[39m\n\u001b[32m    342\u001b[39m     retain_graph = create_graph\n\u001b[32m    344\u001b[39m \u001b[38;5;66;03m# The reason we repeat the same comment below is that\u001b[39;00m\n\u001b[32m    345\u001b[39m \u001b[38;5;66;03m# some Python versions print out the first line of a multi-line function\u001b[39;00m\n\u001b[32m    346\u001b[39m \u001b[38;5;66;03m# calls in the traceback and some print out the last line\u001b[39;00m\n\u001b[32m--> \u001b[39m\u001b[32m347\u001b[39m _engine_run_backward(\n\u001b[32m    348\u001b[39m     tensors,\n\u001b[32m    349\u001b[39m     grad_tensors_,\n\u001b[32m    350\u001b[39m     retain_graph,\n\u001b[32m    351\u001b[39m     create_graph,\n\u001b[32m    352\u001b[39m     inputs,\n\u001b[32m    353\u001b[39m     allow_unreachable=\u001b[38;5;28;01mTrue\u001b[39;00m,\n\u001b[32m    354\u001b[39m     accumulate_grad=\u001b[38;5;28;01mTrue\u001b[39;00m,\n\u001b[32m    355\u001b[39m )\n",
      "\u001b[36mFile \u001b[39m\u001b[32m/opt/anaconda3/envs/MSA/lib/python3.12/site-packages/torch/autograd/graph.py:825\u001b[39m, in \u001b[36m_engine_run_backward\u001b[39m\u001b[34m(t_outputs, *args, **kwargs)\u001b[39m\n\u001b[32m    823\u001b[39m     unregister_hooks = _register_logging_hooks_on_whole_graph(t_outputs)\n\u001b[32m    824\u001b[39m \u001b[38;5;28;01mtry\u001b[39;00m:\n\u001b[32m--> \u001b[39m\u001b[32m825\u001b[39m     \u001b[38;5;28;01mreturn\u001b[39;00m Variable._execution_engine.run_backward(  \u001b[38;5;66;03m# Calls into the C++ engine to run the backward pass\u001b[39;00m\n\u001b[32m    826\u001b[39m         t_outputs, *args, **kwargs\n\u001b[32m    827\u001b[39m     )  \u001b[38;5;66;03m# Calls into the C++ engine to run the backward pass\u001b[39;00m\n\u001b[32m    828\u001b[39m \u001b[38;5;28;01mfinally\u001b[39;00m:\n\u001b[32m    829\u001b[39m     \u001b[38;5;28;01mif\u001b[39;00m attach_logging_hooks:\n",
      "\u001b[31mKeyboardInterrupt\u001b[39m: "
     ]
    }
   ],
   "source": [
    "from torch.utils.data import TensorDataset, DataLoader\n",
    "train_dataset = TensorDataset(tensor_train, labels_train_index)\n",
    "val_dataset = TensorDataset(tensor_val, labels_val_index)\n",
    "train_loader = DataLoader(train_dataset, batch_size=BATCH_SIZE, shuffle=True, num_workers=4, pin_memory=True)\n",
    "val_loader = DataLoader(val_dataset, batch_size=BATCH_SIZE, shuffle=False, num_workers=0)\n",
    "import copy\n",
    "import time\n",
    "\n",
    "best_acc = 0.0\n",
    "best_model_wts = copy.deepcopy(resnet34.state_dict())\n",
    "\n",
    "train_accs_resnet34, train_losses_resnet34 = [], []\n",
    "val_accs_resnet34, val_losses_resnet34 = [], []\n",
    "\n",
    "for epoch in range(MAX_EPOCH):\n",
    "    print(f'\\nEpoch {epoch+1}/{MAX_EPOCH}')\n",
    "    start_time = time.time()\n",
    "\n",
    "    # Training\n",
    "    resnet34.train()\n",
    "    running_loss = 0.0\n",
    "    running_corrects = 0\n",
    "\n",
    "    for inputs, labels in train_loader:\n",
    "        inputs = inputs.to(device)\n",
    "        labels = labels.to(device)\n",
    "\n",
    "        optimizer.zero_grad()\n",
    "        outputs = resnet34(inputs)\n",
    "        loss = criterion(outputs, labels)\n",
    "        loss.backward()\n",
    "        optimizer.step()\n",
    "\n",
    "        running_loss += loss.item() * inputs.size(0)\n",
    "        _, preds = torch.max(outputs, 1)\n",
    "        running_corrects += torch.sum(preds == labels)\n",
    "\n",
    "    epoch_loss = running_loss / len(train_dataset)\n",
    "    epoch_acc = running_corrects / len(train_dataset)\n",
    "    train_losses_resnet34.append(epoch_loss)\n",
    "    train_accs_resnet34.append(epoch_acc.item())\n",
    "\n",
    "    # Validation\n",
    "    resnet34.eval()\n",
    "    val_loss = 0.0\n",
    "    val_corrects = 0\n",
    "\n",
    "    with torch.no_grad():\n",
    "        for inputs, labels in val_loader:\n",
    "            inputs = inputs.to(device)\n",
    "            labels = labels.to(device)\n",
    "\n",
    "            outputs = resnet34(inputs)\n",
    "            loss = criterion(outputs, labels)\n",
    "\n",
    "            val_loss += loss.item() * inputs.size(0)\n",
    "            _, preds = torch.max(outputs, 1)\n",
    "            val_corrects += torch.sum(preds == labels)\n",
    "\n",
    "    val_epoch_loss = val_loss / len(val_dataset)\n",
    "    val_epoch_acc = val_corrects.double() / len(val_dataset)\n",
    "    val_losses_resnet34.append(val_epoch_loss)\n",
    "    val_accs_resnet34.append(val_epoch_acc.item())\n",
    "\n",
    "    print(f'Train Loss: {epoch_loss:.4f} | Acc: {epoch_acc:.4f} | '\n",
    "          f'Val Loss: {val_epoch_loss:.4f} | Val Acc: {val_epoch_acc:.4f}')\n",
    "    print(f\"Epoch time: {(time.time() - start_time):.2f}s\")\n",
    "\n",
    "    if val_epoch_acc > best_acc:\n",
    "        best_acc = val_epoch_acc\n",
    "        best_model_wts = copy.deepcopy(resnet34.state_dict())\n",
    "        torch.save(best_model_wts, 'resnet34_checkpoint.pkl')\n",
    "        print(\"✅ Saved new best model.\")\n",
    "\n",
    "resnet34.load_state_dict(best_model_wts)\n",
    "\n"
   ]
  },
  {
   "cell_type": "code",
   "execution_count": 177,
   "id": "bb5a3089891cf4a3",
   "metadata": {
    "collapsed": false
   },
   "outputs": [
    {
     "data": {
      "image/png": "[encoded data removed]",
      "text/plain": [
       "<Figure size 1200x400 with 2 Axes>"
      ]
     },
     "metadata": {},
     "output_type": "display_data"
    }
   ],
   "source": [
    "# TODO: 5. Plot the loss and accuracy curves.\n",
    "# Plot Loss\n",
    "plt.figure(figsize=(12, 4))\n",
    "\n",
    "plt.subplot(1, 2, 1)\n",
    "plt.plot(train_losses_resnet34, label='Train Loss')\n",
    "plt.plot(val_losses_resnet34, label='Val Loss')\n",
    "plt.title('Loss over Epochs')\n",
    "plt.xlabel('Epoch')\n",
    "plt.ylabel('Loss')\n",
    "plt.legend()\n",
    "plt.grid(True)\n",
    "\n",
    "# Plot Accuracy\n",
    "plt.subplot(1, 2, 2)\n",
    "plt.plot(train_accs_resnet34, label='Train Accuracy')\n",
    "plt.plot(val_accs_resnet34, label='Val Accuracy')\n",
    "plt.title('Accuracy over Epochs')\n",
    "plt.xlabel('Epoch')\n",
    "plt.ylabel('Accuracy')\n",
    "plt.legend()\n",
    "plt.grid(True)\n",
    "\n",
    "plt.tight_layout()\n",
    "plt.show()"
   ]
  },
  {
   "cell_type": "markdown",
   "id": "897fa4102b57deab",
   "metadata": {
    "collapsed": false
   },
   "source": [
    "# Step 3 Train the student model (ResNet18)\n",
    "1. Set hyperparameters for the distillation process.\n",
    "2. Create a NON-PRETRAINED ResNet18 and move the model to selected device.\n",
    "3. Load the saved ResNet34 and move the model to selected device.\n",
    "4. Define the optimizer, loss function, etc.\n",
    "5. Train ResNet18 and save the best-performing parameters to 'resnet18_checkpoint.pkl'.\n",
    "6. Plot the loss and accuracy curves."
   ]
  },
  {
   "cell_type": "code",
   "execution_count": 138,
   "id": "68482456ab9410f8",
   "metadata": {
    "ExecuteTime": {
     "end_time": "2025-05-10T01:57:38.370616Z",
     "start_time": "2025-05-10T01:57:38.341026Z"
    },
    "collapsed": false
   },
   "outputs": [
    {
     "name": "stdout",
     "output_type": "stream",
     "text": [
      "tensor(10)\n",
      "torch.Size([7800, 3, 224, 224])\n",
      "torch.Size([2600, 3, 224, 224])\n",
      "torch.Size([2600, 3, 224, 224])\n",
      "torch.Size([7800])\n",
      "torch.Size([2600])\n"
     ]
    }
   ],
   "source": [
    "# Verify data shapes\n",
    "\n",
    "num_classes = max(labels_train_index) + 1\n",
    "print(num_classes)\n",
    "print(tensor_train.shape)\n",
    "print(tensor_val.shape)\n",
    "print(tensor_test.shape)\n",
    "print(labels_train_index.shape)\n",
    "print(labels_val_index.shape)"
   ]
  },
  {
   "cell_type": "code",
   "execution_count": 139,
   "id": "36a405975e022459",
   "metadata": {
    "ExecuteTime": {
     "end_time": "2025-05-10T01:57:39.329470Z",
     "start_time": "2025-05-10T01:57:39.294551Z"
    },
    "collapsed": false
   },
   "outputs": [],
   "source": [
    "# TODO: 1. Set hyperparameters for the distillation process.\n",
    "\n",
    "MAX_EPOCH = 50\n",
    "INIT_LR = 0.001\n",
    "BATCH_SIZE = 32\n",
    "device = torch.device(\"cuda\" if torch.cuda.is_available() else \"cpu\")\n",
    "\n",
    "TEMPERATURE = 3.0      # Typical distillation temp, smooths teacher probs\n",
    "LOSS_RATIO = 0.9       # Weight for distillation loss; rest is for true label loss\n"
   ]
  },
  {
   "cell_type": "code",
   "execution_count": 140,
   "id": "e7d2325836c2cf7d",
   "metadata": {
    "ExecuteTime": {
     "end_time": "2025-05-10T01:57:43.030265Z",
     "start_time": "2025-05-10T01:57:42.861042Z"
    },
    "collapsed": false
   },
   "outputs": [
    {
     "name": "stderr",
     "output_type": "stream",
     "text": [
      "/opt/anaconda3/envs/MSA/lib/python3.12/site-packages/torchvision/models/_utils.py:223: UserWarning: Arguments other than a weight enum or `None` for 'weights' are deprecated since 0.13 and may be removed in the future. The current behavior is equivalent to passing `weights=None`.\n",
      "  warnings.warn(msg)\n"
     ]
    }
   ],
   "source": [
    "# TODO: 2. Create a NON-PRETRAINED ResNet18 and move the model to selected device.\n",
    "\n",
    "resnet18 = torchvision.models.resnet18(pretrained=False)\n",
    "resnet18.fc = nn.Linear(resnet18.fc.in_features, num_classes)\n",
    "resnet18 = resnet18.to(device)"
   ]
  },
  {
   "cell_type": "code",
   "execution_count": 144,
   "id": "b8092f5d5acce972",
   "metadata": {
    "collapsed": false
   },
   "outputs": [
    {
     "name": "stderr",
     "output_type": "stream",
     "text": [
      "/var/folders/xk/22ly48k565557xrbtq5p2dm80000gn/T/ipykernel_1562/285259991.py:7: FutureWarning: You are using `torch.load` with `weights_only=False` (the current default value), which uses the default pickle module implicitly. It is possible to construct malicious pickle data which will execute arbitrary code during unpickling (See https://github.com/pytorch/pytorch/blob/main/SECURITY.md#untrusted-models for more details). In a future release, the default value for `weights_only` will be flipped to `True`. This limits the functions that could be executed during unpickling. Arbitrary objects will no longer be allowed to be loaded via this mode unless they are explicitly allowlisted by the user via `torch.serialization.add_safe_globals`. We recommend you start setting `weights_only=True` for any use case where you don't have full control of the loaded file. Please open an issue on GitHub for any issues related to this experimental feature.\n",
      "  checkpoint = torch.load('resnet34_checkpoint.pkl', map_location=device)\n"
     ]
    },
    {
     "data": {
      "text/plain": [
       "ResNet(\n",
       "  (conv1): Conv2d(3, 64, kernel_size=(7, 7), stride=(2, 2), padding=(3, 3), bias=False)\n",
       "  (bn1): BatchNorm2d(64, eps=1e-05, momentum=0.1, affine=True, track_running_stats=True)\n",
       "  (relu): ReLU(inplace=True)\n",
       "  (maxpool): MaxPool2d(kernel_size=3, stride=2, padding=1, dilation=1, ceil_mode=False)\n",
       "  (layer1): Sequential(\n",
       "    (0): BasicBlock(\n",
       "      (conv1): Conv2d(64, 64, kernel_size=(3, 3), stride=(1, 1), padding=(1, 1), bias=False)\n",
       "      (bn1): BatchNorm2d(64, eps=1e-05, momentum=0.1, affine=True, track_running_stats=True)\n",
       "      (relu): ReLU(inplace=True)\n",
       "      (conv2): Conv2d(64, 64, kernel_size=(3, 3), stride=(1, 1), padding=(1, 1), bias=False)\n",
       "      (bn2): BatchNorm2d(64, eps=1e-05, momentum=0.1, affine=True, track_running_stats=True)\n",
       "    )\n",
       "    (1): BasicBlock(\n",
       "      (conv1): Conv2d(64, 64, kernel_size=(3, 3), stride=(1, 1), padding=(1, 1), bias=False)\n",
       "      (bn1): BatchNorm2d(64, eps=1e-05, momentum=0.1, affine=True, track_running_stats=True)\n",
       "      (relu): ReLU(inplace=True)\n",
       "      (conv2): Conv2d(64, 64, kernel_size=(3, 3), stride=(1, 1), padding=(1, 1), bias=False)\n",
       "      (bn2): BatchNorm2d(64, eps=1e-05, momentum=0.1, affine=True, track_running_stats=True)\n",
       "    )\n",
       "    (2): BasicBlock(\n",
       "      (conv1): Conv2d(64, 64, kernel_size=(3, 3), stride=(1, 1), padding=(1, 1), bias=False)\n",
       "      (bn1): BatchNorm2d(64, eps=1e-05, momentum=0.1, affine=True, track_running_stats=True)\n",
       "      (relu): ReLU(inplace=True)\n",
       "      (conv2): Conv2d(64, 64, kernel_size=(3, 3), stride=(1, 1), padding=(1, 1), bias=False)\n",
       "      (bn2): BatchNorm2d(64, eps=1e-05, momentum=0.1, affine=True, track_running_stats=True)\n",
       "    )\n",
       "  )\n",
       "  (layer2): Sequential(\n",
       "    (0): BasicBlock(\n",
       "      (conv1): Conv2d(64, 128, kernel_size=(3, 3), stride=(2, 2), padding=(1, 1), bias=False)\n",
       "      (bn1): BatchNorm2d(128, eps=1e-05, momentum=0.1, affine=True, track_running_stats=True)\n",
       "      (relu): ReLU(inplace=True)\n",
       "      (conv2): Conv2d(128, 128, kernel_size=(3, 3), stride=(1, 1), padding=(1, 1), bias=False)\n",
       "      (bn2): BatchNorm2d(128, eps=1e-05, momentum=0.1, affine=True, track_running_stats=True)\n",
       "      (downsample): Sequential(\n",
       "        (0): Conv2d(64, 128, kernel_size=(1, 1), stride=(2, 2), bias=False)\n",
       "        (1): BatchNorm2d(128, eps=1e-05, momentum=0.1, affine=True, track_running_stats=True)\n",
       "      )\n",
       "    )\n",
       "    (1): BasicBlock(\n",
       "      (conv1): Conv2d(128, 128, kernel_size=(3, 3), stride=(1, 1), padding=(1, 1), bias=False)\n",
       "      (bn1): BatchNorm2d(128, eps=1e-05, momentum=0.1, affine=True, track_running_stats=True)\n",
       "      (relu): ReLU(inplace=True)\n",
       "      (conv2): Conv2d(128, 128, kernel_size=(3, 3), stride=(1, 1), padding=(1, 1), bias=False)\n",
       "      (bn2): BatchNorm2d(128, eps=1e-05, momentum=0.1, affine=True, track_running_stats=True)\n",
       "    )\n",
       "    (2): BasicBlock(\n",
       "      (conv1): Conv2d(128, 128, kernel_size=(3, 3), stride=(1, 1), padding=(1, 1), bias=False)\n",
       "      (bn1): BatchNorm2d(128, eps=1e-05, momentum=0.1, affine=True, track_running_stats=True)\n",
       "      (relu): ReLU(inplace=True)\n",
       "      (conv2): Conv2d(128, 128, kernel_size=(3, 3), stride=(1, 1), padding=(1, 1), bias=False)\n",
       "      (bn2): BatchNorm2d(128, eps=1e-05, momentum=0.1, affine=True, track_running_stats=True)\n",
       "    )\n",
       "    (3): BasicBlock(\n",
       "      (conv1): Conv2d(128, 128, kernel_size=(3, 3), stride=(1, 1), padding=(1, 1), bias=False)\n",
       "      (bn1): BatchNorm2d(128, eps=1e-05, momentum=0.1, affine=True, track_running_stats=True)\n",
       "      (relu): ReLU(inplace=True)\n",
       "      (conv2): Conv2d(128, 128, kernel_size=(3, 3), stride=(1, 1), padding=(1, 1), bias=False)\n",
       "      (bn2): BatchNorm2d(128, eps=1e-05, momentum=0.1, affine=True, track_running_stats=True)\n",
       "    )\n",
       "  )\n",
       "  (layer3): Sequential(\n",
       "    (0): BasicBlock(\n",
       "      (conv1): Conv2d(128, 256, kernel_size=(3, 3), stride=(2, 2), padding=(1, 1), bias=False)\n",
       "      (bn1): BatchNorm2d(256, eps=1e-05, momentum=0.1, affine=True, track_running_stats=True)\n",
       "      (relu): ReLU(inplace=True)\n",
       "      (conv2): Conv2d(256, 256, kernel_size=(3, 3), stride=(1, 1), padding=(1, 1), bias=False)\n",
       "      (bn2): BatchNorm2d(256, eps=1e-05, momentum=0.1, affine=True, track_running_stats=True)\n",
       "      (downsample): Sequential(\n",
       "        (0): Conv2d(128, 256, kernel_size=(1, 1), stride=(2, 2), bias=False)\n",
       "        (1): BatchNorm2d(256, eps=1e-05, momentum=0.1, affine=True, track_running_stats=True)\n",
       "      )\n",
       "    )\n",
       "    (1): BasicBlock(\n",
       "      (conv1): Conv2d(256, 256, kernel_size=(3, 3), stride=(1, 1), padding=(1, 1), bias=False)\n",
       "      (bn1): BatchNorm2d(256, eps=1e-05, momentum=0.1, affine=True, track_running_stats=True)\n",
       "      (relu): ReLU(inplace=True)\n",
       "      (conv2): Conv2d(256, 256, kernel_size=(3, 3), stride=(1, 1), padding=(1, 1), bias=False)\n",
       "      (bn2): BatchNorm2d(256, eps=1e-05, momentum=0.1, affine=True, track_running_stats=True)\n",
       "    )\n",
       "    (2): BasicBlock(\n",
       "      (conv1): Conv2d(256, 256, kernel_size=(3, 3), stride=(1, 1), padding=(1, 1), bias=False)\n",
       "      (bn1): BatchNorm2d(256, eps=1e-05, momentum=0.1, affine=True, track_running_stats=True)\n",
       "      (relu): ReLU(inplace=True)\n",
       "      (conv2): Conv2d(256, 256, kernel_size=(3, 3), stride=(1, 1), padding=(1, 1), bias=False)\n",
       "      (bn2): BatchNorm2d(256, eps=1e-05, momentum=0.1, affine=True, track_running_stats=True)\n",
       "    )\n",
       "    (3): BasicBlock(\n",
       "      (conv1): Conv2d(256, 256, kernel_size=(3, 3), stride=(1, 1), padding=(1, 1), bias=False)\n",
       "      (bn1): BatchNorm2d(256, eps=1e-05, momentum=0.1, affine=True, track_running_stats=True)\n",
       "      (relu): ReLU(inplace=True)\n",
       "      (conv2): Conv2d(256, 256, kernel_size=(3, 3), stride=(1, 1), padding=(1, 1), bias=False)\n",
       "      (bn2): BatchNorm2d(256, eps=1e-05, momentum=0.1, affine=True, track_running_stats=True)\n",
       "    )\n",
       "    (4): BasicBlock(\n",
       "      (conv1): Conv2d(256, 256, kernel_size=(3, 3), stride=(1, 1), padding=(1, 1), bias=False)\n",
       "      (bn1): BatchNorm2d(256, eps=1e-05, momentum=0.1, affine=True, track_running_stats=True)\n",
       "      (relu): ReLU(inplace=True)\n",
       "      (conv2): Conv2d(256, 256, kernel_size=(3, 3), stride=(1, 1), padding=(1, 1), bias=False)\n",
       "      (bn2): BatchNorm2d(256, eps=1e-05, momentum=0.1, affine=True, track_running_stats=True)\n",
       "    )\n",
       "    (5): BasicBlock(\n",
       "      (conv1): Conv2d(256, 256, kernel_size=(3, 3), stride=(1, 1), padding=(1, 1), bias=False)\n",
       "      (bn1): BatchNorm2d(256, eps=1e-05, momentum=0.1, affine=True, track_running_stats=True)\n",
       "      (relu): ReLU(inplace=True)\n",
       "      (conv2): Conv2d(256, 256, kernel_size=(3, 3), stride=(1, 1), padding=(1, 1), bias=False)\n",
       "      (bn2): BatchNorm2d(256, eps=1e-05, momentum=0.1, affine=True, track_running_stats=True)\n",
       "    )\n",
       "  )\n",
       "  (layer4): Sequential(\n",
       "    (0): BasicBlock(\n",
       "      (conv1): Conv2d(256, 512, kernel_size=(3, 3), stride=(2, 2), padding=(1, 1), bias=False)\n",
       "      (bn1): BatchNorm2d(512, eps=1e-05, momentum=0.1, affine=True, track_running_stats=True)\n",
       "      (relu): ReLU(inplace=True)\n",
       "      (conv2): Conv2d(512, 512, kernel_size=(3, 3), stride=(1, 1), padding=(1, 1), bias=False)\n",
       "      (bn2): BatchNorm2d(512, eps=1e-05, momentum=0.1, affine=True, track_running_stats=True)\n",
       "      (downsample): Sequential(\n",
       "        (0): Conv2d(256, 512, kernel_size=(1, 1), stride=(2, 2), bias=False)\n",
       "        (1): BatchNorm2d(512, eps=1e-05, momentum=0.1, affine=True, track_running_stats=True)\n",
       "      )\n",
       "    )\n",
       "    (1): BasicBlock(\n",
       "      (conv1): Conv2d(512, 512, kernel_size=(3, 3), stride=(1, 1), padding=(1, 1), bias=False)\n",
       "      (bn1): BatchNorm2d(512, eps=1e-05, momentum=0.1, affine=True, track_running_stats=True)\n",
       "      (relu): ReLU(inplace=True)\n",
       "      (conv2): Conv2d(512, 512, kernel_size=(3, 3), stride=(1, 1), padding=(1, 1), bias=False)\n",
       "      (bn2): BatchNorm2d(512, eps=1e-05, momentum=0.1, affine=True, track_running_stats=True)\n",
       "    )\n",
       "    (2): BasicBlock(\n",
       "      (conv1): Conv2d(512, 512, kernel_size=(3, 3), stride=(1, 1), padding=(1, 1), bias=False)\n",
       "      (bn1): BatchNorm2d(512, eps=1e-05, momentum=0.1, affine=True, track_running_stats=True)\n",
       "      (relu): ReLU(inplace=True)\n",
       "      (conv2): Conv2d(512, 512, kernel_size=(3, 3), stride=(1, 1), padding=(1, 1), bias=False)\n",
       "      (bn2): BatchNorm2d(512, eps=1e-05, momentum=0.1, affine=True, track_running_stats=True)\n",
       "    )\n",
       "  )\n",
       "  (avgpool): AdaptiveAvgPool2d(output_size=(1, 1))\n",
       "  (fc): Linear(in_features=512, out_features=7800, bias=True)\n",
       ")"
      ]
     },
     "execution_count": 144,
     "metadata": {},
     "output_type": "execute_result"
    }
   ],
   "source": [
    "# TODO: 3. Load the saved ResNet34 and move the model to selected device.\n",
    "# Make sure to match the number of output classes\n",
    "\n",
    "resnet34 = torchvision.models.resnet34(pretrained=False)\n",
    "\n",
    "# Load the checkpoint\n",
    "checkpoint = torch.load('resnet34_checkpoint.pkl', map_location=device)\n",
    "\n",
    "# Remove the fc layer weights from the checkpoint\n",
    "filtered_dict = {k: v for k, v in checkpoint.items() if not k.startswith('fc.')}\n",
    "\n",
    "# Load only matching parameters\n",
    "resnet34.load_state_dict({**resnet34.state_dict(), **filtered_dict})\n",
    "\n",
    "# Replace the final layer to match your current task\n",
    "resnet34.fc = nn.Linear(resnet34.fc.in_features, num_classes)\n",
    "\n",
    "# Move to device and set to evaluation mode\n",
    "resnet34 = resnet34.to(device)\n",
    "resnet34.eval()\n"
   ]
  },
  {
   "cell_type": "code",
   "execution_count": 145,
   "id": "f312a04da1e5ddf6",
   "metadata": {
    "ExecuteTime": {
     "end_time": "2025-05-10T01:57:49.170629Z",
     "start_time": "2025-05-10T01:57:49.152278Z"
    },
    "collapsed": false
   },
   "outputs": [],
   "source": [
    "# TODO: 4. Define the optimizer, loss function, etc.\n",
    "\n",
    "optimizer = torch.optim.Adam(resnet18.parameters(), lr=INIT_LR)\n",
    "scheduler = torch.optim.lr_scheduler.StepLR(optimizer, step_size=5, gamma=0.1) "
   ]
  },
  {
   "cell_type": "code",
   "execution_count": 147,
   "id": "3c17f3f9eb662cef",
   "metadata": {
    "collapsed": false
   },
   "outputs": [
    {
     "name": "stdout",
     "output_type": "stream",
     "text": [
      "labels_train_index: (array([0, 1, 2, 3, 4, 5, 6, 7, 8, 9]), array([780, 780, 780, 780, 780, 780, 780, 780, 780, 780]))\n",
      "labels_val_index: (array([0, 1, 2, 3, 4, 5, 6, 7, 8, 9]), array([260, 260, 260, 260, 260, 260, 260, 260, 260, 260]))\n",
      "\n",
      "Epoch 1/50\n"
     ]
    },
    {
     "name": "stderr",
     "output_type": "stream",
     "text": [
      "python(9497) MallocStackLogging: can't turn off malloc stack logging because it was not enabled.\n",
      "python(9498) MallocStackLogging: can't turn off malloc stack logging because it was not enabled.\n",
      "python(9499) MallocStackLogging: can't turn off malloc stack logging because it was not enabled.\n",
      "python(9500) MallocStackLogging: can't turn off malloc stack logging because it was not enabled.\n"
     ]
    },
    {
     "ename": "RuntimeError",
     "evalue": "The size of tensor a (7800) must match the size of tensor b (10) at non-singleton dimension 1",
     "output_type": "error",
     "traceback": [
      "\u001b[31m---------------------------------------------------------------------------\u001b[39m",
      "\u001b[31mRuntimeError\u001b[39m                              Traceback (most recent call last)",
      "\u001b[36mCell\u001b[39m\u001b[36m \u001b[39m\u001b[32mIn[147]\u001b[39m\u001b[32m, line 31\u001b[39m\n\u001b[32m     29\u001b[39m \u001b[38;5;66;03m# Losses\u001b[39;00m\n\u001b[32m     30\u001b[39m loss_ce = F.cross_entropy(outputs_student, labels)\n\u001b[32m---> \u001b[39m\u001b[32m31\u001b[39m loss_kd = F.kl_div(\n\u001b[32m     32\u001b[39m     F.log_softmax(outputs_student / TEMPERATURE, dim=\u001b[32m1\u001b[39m),\n\u001b[32m     33\u001b[39m     F.softmax(outputs_teacher / TEMPERATURE, dim=\u001b[32m1\u001b[39m),\n\u001b[32m     34\u001b[39m     reduction=\u001b[33m'\u001b[39m\u001b[33mbatchmean\u001b[39m\u001b[33m'\u001b[39m\n\u001b[32m     35\u001b[39m ) * (TEMPERATURE ** \u001b[32m2\u001b[39m)\n\u001b[32m     37\u001b[39m loss = LOSS_RATIO * loss_kd + (\u001b[32m1.\u001b[39m - LOSS_RATIO) * loss_ce\n\u001b[32m     39\u001b[39m loss.backward()\n",
      "\u001b[36mFile \u001b[39m\u001b[32m/opt/anaconda3/envs/MSA/lib/python3.12/site-packages/torch/nn/functional.py:3381\u001b[39m, in \u001b[36mkl_div\u001b[39m\u001b[34m(input, target, size_average, reduce, reduction, log_target)\u001b[39m\n\u001b[32m   3378\u001b[39m     \u001b[38;5;28;01melse\u001b[39;00m:\n\u001b[32m   3379\u001b[39m         reduction_enum = _Reduction.get_enum(reduction)\n\u001b[32m-> \u001b[39m\u001b[32m3381\u001b[39m reduced = torch.kl_div(\u001b[38;5;28minput\u001b[39m, target, reduction_enum, log_target=log_target)\n\u001b[32m   3383\u001b[39m \u001b[38;5;28;01mif\u001b[39;00m reduction == \u001b[33m\"\u001b[39m\u001b[33mbatchmean\u001b[39m\u001b[33m\"\u001b[39m \u001b[38;5;129;01mand\u001b[39;00m \u001b[38;5;28minput\u001b[39m.dim() != \u001b[32m0\u001b[39m:\n\u001b[32m   3384\u001b[39m     reduced = reduced / \u001b[38;5;28minput\u001b[39m.size()[\u001b[32m0\u001b[39m]\n",
      "\u001b[31mRuntimeError\u001b[39m: The size of tensor a (7800) must match the size of tensor b (10) at non-singleton dimension 1"
     ]
    }
   ],
   "source": [
    "best_acc = 0.0\n",
    "best_model_wts = copy.deepcopy(resnet18.state_dict())\n",
    "train_accs_resnet18, train_losses_resnet18 = [], []\n",
    "val_accs_resnet18, val_losses_resnet18 = [], []\n",
    "\n",
    "print(\"labels_train_index:\", np.unique(labels_train_index, return_counts=True))\n",
    "print(\"labels_val_index:\", np.unique(labels_val_index, return_counts=True))\n",
    "\n",
    "for epoch in range(MAX_EPOCH):\n",
    "    print(f\"\\nEpoch {epoch+1}/{MAX_EPOCH}\")\n",
    "    start_time = time.time()\n",
    "\n",
    "    # === Train ===\n",
    "    resnet18.train()\n",
    "    running_loss = 0.0\n",
    "    running_corrects = 0\n",
    "\n",
    "    for inputs, labels in train_loader:\n",
    "        inputs = inputs.to(device)\n",
    "        labels = labels.to(device)\n",
    "\n",
    "        optimizer.zero_grad()\n",
    "\n",
    "        outputs_student = resnet18(inputs)\n",
    "\n",
    "        with torch.no_grad():\n",
    "            outputs_teacher = resnet34(inputs)\n",
    "\n",
    "        # Losses\n",
    "        loss_ce = F.cross_entropy(outputs_student, labels)\n",
    "        loss_kd = F.kl_div(\n",
    "            F.log_softmax(outputs_student / TEMPERATURE, dim=1),\n",
    "            F.softmax(outputs_teacher / TEMPERATURE, dim=1),\n",
    "            reduction='batchmean'\n",
    "        ) * (TEMPERATURE ** 2)\n",
    "\n",
    "        loss = LOSS_RATIO * loss_kd + (1. - LOSS_RATIO) * loss_ce\n",
    "\n",
    "        loss.backward()\n",
    "        optimizer.step()\n",
    "\n",
    "        running_loss += loss.item() * inputs.size(0)\n",
    "        _, preds = torch.max(outputs_student, 1)\n",
    "        running_corrects += torch.sum(preds == labels)\n",
    "\n",
    "    epoch_loss = running_loss / len(train_dataset)\n",
    "    epoch_acc = running_corrects.double() / len(train_dataset)\n",
    "    train_losses_resnet18.append(epoch_loss)\n",
    "    train_accs_resnet18.append(epoch_acc.item())\n",
    "\n",
    "    # === Validation ===\n",
    "    resnet18.eval()\n",
    "    val_running_loss = 0.0\n",
    "    val_running_corrects = 0\n",
    "\n",
    "    with torch.no_grad():\n",
    "        for inputs, labels in val_loader:\n",
    "            inputs = inputs.to(device)\n",
    "            labels = labels.to(device)\n",
    "\n",
    "            outputs_student = resnet18(inputs)\n",
    "            outputs_teacher = resnet34(inputs)\n",
    "\n",
    "            loss_ce = F.cross_entropy(outputs_student, labels)\n",
    "            loss_kd = F.kl_div(\n",
    "                F.log_softmax(outputs_student / TEMPERATURE, dim=1),\n",
    "                F.softmax(outputs_teacher / TEMPERATURE, dim=1),\n",
    "                reduction='batchmean'\n",
    "            ) * (TEMPERATURE ** 2)\n",
    "\n",
    "            loss = LOSS_RATIO * loss_kd + (1. - LOSS_RATIO) * loss_ce\n",
    "\n",
    "            val_running_loss += loss.item() * inputs.size(0)\n",
    "            _, preds = torch.max(outputs_student, 1)\n",
    "            val_running_corrects += torch.sum(preds == labels)\n",
    "\n",
    "    val_loss = val_running_loss / len(val_dataset)\n",
    "    val_acc = val_running_corrects.double() / len(val_dataset)\n",
    "    val_losses_resnet18.append(val_loss)\n",
    "    val_accs_resnet18.append(val_acc.item())\n",
    "\n",
    "    print(f\"Train Loss: {epoch_loss:.4f} | Train Acc: {epoch_acc:.4f} | Val Loss: {val_loss:.4f} | Val Acc: {val_acc:.4f}\")\n",
    "    print(f\"Epoch time: {(time.time() - start_time):.2f}s\")\n",
    "\n",
    "    if val_acc > best_acc:\n",
    "        best_acc = val_acc\n",
    "        best_model_wts = copy.deepcopy(resnet18.state_dict())\n",
    "        torch.save(best_model_wts, 'resnet18_checkpoint.pkl')\n",
    "        print(\"✅ Saved new best model.\")\n",
    "\n",
    "# Load best weights\n",
    "resnet18.load_state_dict(best_model_wts)"
   ]
  },
  {
   "cell_type": "code",
   "execution_count": 47,
   "id": "260396b6b143a422",
   "metadata": {
    "ExecuteTime": {
     "end_time": "2025-05-10T03:04:33.157515Z",
     "start_time": "2025-05-10T03:04:32.960493Z"
    },
    "collapsed": false
   },
   "outputs": [
    {
     "data": {
      "image/png": "[encoded data removed]",
      "text/plain": [
       "<Figure size 1200x500 with 2 Axes>"
      ]
     },
     "metadata": {},
     "output_type": "display_data"
    },
    {
     "name": "stdout",
     "output_type": "stream",
     "text": [
      "Train losses: [1.4038638162612915, 1.1861354207992554, 0.9581786346435547, 0.6354152584075927, 0.5892362356185913, 0.43507133960723876, 0.3143691873550415, 0.31413647532463074, 0.2733332228660583, 0.21347267985343932]\n",
      "Val losses: [1.7218574380874634, 2.007904062271118, 0.8147203862667084, 0.9940990656614304, 1.2375788462162018, 0.7257115042209625, 1.0524319314956665, 1.0022861766815185, 0.6245729804039002, 0.5216956686973572]\n",
      "Train accs: [1.0, 1.0, 1.0, 1.0, 1.0, 1.0, 1.0, 1.0, 1.0, 1.0]\n",
      "Val accs: [1.0, 1.0, 1.0, 1.0, 1.0, 1.0, 1.0, 1.0, 1.0, 1.0]\n"
     ]
    }
   ],
   "source": [
    "# TODO: 6. Plot the loss and accuracy curves.\n",
    "plt.figure(figsize=(12, 5))\n",
    "plt.subplot(1, 2, 1)\n",
    "plt.plot(train_losses_resnet18, label='Train Loss', marker='o')\n",
    "plt.plot(val_losses_resnet18, label='Val Loss', marker='o')\n",
    "plt.title('ResNet18 Distillation Loss')\n",
    "plt.xlabel('Epoch')\n",
    "plt.ylabel('Loss')\n",
    "plt.grid(True)\n",
    "plt.legend()\n",
    "\n",
    "# Plot Accuracy\n",
    "plt.subplot(1, 2, 2)\n",
    "plt.plot(train_accs_resnet18, label='Train Acc', marker='o')\n",
    "plt.plot(val_accs_resnet18, label='Val Acc', marker='o')\n",
    "plt.title('ResNet18 Distillation Accuracy')\n",
    "plt.xlabel('Epoch')\n",
    "plt.ylabel('Accuracy')\n",
    "plt.grid(True)\n",
    "plt.legend()\n",
    "\n",
    "plt.tight_layout()\n",
    "plt.show()\n",
    "print(\"Train losses:\", train_losses_resnet18)\n",
    "print(\"Val losses:\", val_losses_resnet18)\n",
    "print(\"Train accs:\", train_accs_resnet18)\n",
    "print(\"Val accs:\", val_accs_resnet18)\n"
   ]
  },
  {
   "cell_type": "markdown",
   "id": "730790a6c4e96912",
   "metadata": {
    "collapsed": false
   },
   "source": [
    "# Step 4 Predict labels in the testing set\n",
    "1. Load the saved ResNet18 and move it to the selected device.\n",
    "2. Do prediction using the images in the testing set.\n",
    "3. Write the results into the CSV file for submission."
   ]
  },
  {
   "cell_type": "code",
   "execution_count": null,
   "id": "d2a8f6f703b42a0a",
   "metadata": {
    "collapsed": false
   },
   "outputs": [],
   "source": [
    "# TODO: 1. Load the saved ResNet18 and move it to the selected device.\n",
    "# Hint: Enable the evaluation mode to prevent updating the parameters.\n",
    "resnet18 = torchvision.models.resnet18(num_classes=10)\n",
    "resnet18.load_state_dict(torch.load('../models/resnet18_checkpoint.pkl', map_location=device))\n",
    "resnet18.to(device)\n",
    "resnet18.eval()"
   ]
  },
  {
   "cell_type": "code",
   "execution_count": null,
   "id": "44ee908450e937e7",
   "metadata": {
    "ExecuteTime": {
     "end_time": "2025-05-10T03:43:20.873625Z",
     "start_time": "2025-05-10T03:43:18.999813Z"
    },
    "collapsed": false
   },
   "outputs": [],
   "source": [
    "# TODO: 2. Do prediction using the images in the testing set.\n",
    "test_dataset = TensorDataset(tensor_test)  # assumes tensor_test has shape [N, C, H, W]\n",
    "test_loader = DataLoader(test_dataset, batch_size=32, shuffle=False)\n",
    "\n",
    "predictions: List = []\n",
    "with torch.no_grad():\n",
    "    for (images,) in test_loader:\n",
    "        images = images.to(device)\n",
    "        outputs = resnet18(images)\n",
    "        _, predicted = torch.max(outputs, 1)\n",
    "        predictions.extend(predicted.cpu().tolist())\n",
    "\n"
   ]
  },
  {
   "cell_type": "code",
   "execution_count": null,
   "id": "bee5ddbde0d132cf",
   "metadata": {
    "collapsed": false
   },
   "outputs": [],
   "source": [
    "# TODO: 3. Write the results into the CSV file for submission.\n",
    "# Hint: The CSV file should be in the format of 'file_name' and 'label'.\n",
    "#       The submission.csv should look like:\n",
    "#           file_name,label\n",
    "#           0.jpg,sunglasses\n",
    "#           ...\n",
    "\n",
    "# This must match the order used in training (e.g., ImageFolder class_to_idx)\n",
    "index_to_label = {\n",
    "    0: \"african_elephant\",\n",
    "    1: \"airliner\",\n",
    "    2: \"ambulance\",\n",
    "    3: \"american_bulldog\",\n",
    "    4: \"baseball_field\",\n",
    "    5: \"beer_glass\",\n",
    "    6: \"camel\",\n",
    "    7: \"capuchin\",\n",
    "    8: \"ice_cream\",\n",
    "    9: \"sunglasses\"\n",
    "}\n",
    "with open(\"submission.csv\", mode=\"w\", newline=\"\") as file:\n",
    "    writer = csv.writer(file)\n",
    "    writer.writerow([\"file_name\", \"label\"])\n",
    "    for i, pred_idx in enumerate(predictions):\n",
    "        filename = f\"{i}.jpg\"\n",
    "        label = index_to_label[pred_idx]\n",
    "        writer.writerow([filename, label])\n",
    "\n",
    "print(\"✅ submission.csv created successfully.\")"
   ]
  }
 ],
 "metadata": {
  "kernelspec": {
   "display_name": "Python 3 (ipykernel)",
   "language": "python",
   "name": "python3"
  },
  "language_info": {
   "codemirror_mode": {
    "name": "ipython",
    "version": 3
   },
   "file_extension": ".py",
   "mimetype": "text/x-python",
   "name": "python",
   "nbconvert_exporter": "python",
   "pygments_lexer": "ipython3",
   "version": "3.12.11"
  }
 },
 "nbformat": 4,
 "nbformat_minor": 5
}
